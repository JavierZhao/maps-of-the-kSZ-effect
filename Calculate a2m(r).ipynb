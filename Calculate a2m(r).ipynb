{
 "cells": [
  {
   "cell_type": "code",
   "execution_count": 14,
   "metadata": {},
   "outputs": [
    {
     "name": "stdout",
     "output_type": "stream",
     "text": [
      "Using CAMB 1.1.3 installed at /Users/zhaozihan/Desktop/CAMB/camb\n"
     ]
    }
   ],
   "source": [
    "%matplotlib inline\n",
    "%config InlineBackend.figure_format = 'retina'\n",
    "import sys, platform, os\n",
    "import matplotlib\n",
    "from matplotlib import pyplot as plt\n",
    "import numpy as np\n",
    "\n",
    "#Assume installed from github using \"git clone --recursive https://github.com/cmbant/CAMB.git\"\n",
    "#This file is then in the docs folders\n",
    "camb_path = os.path.realpath(os.path.join(os.getcwd(),'..'))\n",
    "sys.path.insert(0,camb_path)\n",
    "import camb\n",
    "from camb import model, initialpower\n",
    "print('Using CAMB %s installed at %s'%(camb.__version__,os.path.dirname(camb.__file__)))"
   ]
  },
  {
   "cell_type": "code",
   "execution_count": 15,
   "metadata": {},
   "outputs": [],
   "source": [
    "#Set up a new set of parameters for CAMB\n",
    "pars = camb.CAMBparams()\n",
    "#This function sets up CosmoMC-like settings, with one massive neutrino and helium set using BBN consistency\n",
    "pars.set_cosmology(H0=67.5, ombh2=0.022, omch2=0.122, mnu=0.06, omk=0, tau=0.06)\n",
    "#use values from Planck paper\n",
    "pars.InitPower.set_params(As=2e-9, ns=0.965, r=0)\n",
    "pars.set_for_lmax(2500, lens_potential_accuracy=0);"
   ]
  },
  {
   "cell_type": "code",
   "execution_count": 16,
   "metadata": {},
   "outputs": [],
   "source": [
    "#calculate results for these parameters\n",
    "results = camb.get_results(pars)"
   ]
  },
  {
   "cell_type": "code",
   "execution_count": 17,
   "metadata": {},
   "outputs": [],
   "source": [
    "#get dictionary of CAMB power spectra\n",
    "powers =results.get_cmb_power_spectra(pars, CMB_unit='muK')\n",
    "# for name in powers: print(name)"
   ]
  },
  {
   "cell_type": "code",
   "execution_count": 18,
   "metadata": {},
   "outputs": [
    {
     "name": "stdout",
     "output_type": "stream",
     "text": [
      "Note: redshifts have been re-sorted (earliest first)\n"
     ]
    }
   ],
   "source": [
    "#Now get matter power spectra and sigma8 at redshift 0 and 0.8\n",
    "pars = camb.CAMBparams()\n",
    "pars.set_cosmology(H0=67.5, ombh2=0.022, omch2=0.122)\n",
    "pars.InitPower.set_params(ns=0.965)\n",
    "#Note non-linear corrections couples to smaller scales than you want\n",
    "pars.set_matter_power(redshifts=[0., 0.8], kmax=2.0)\n",
    "\n",
    "#Linear spectra\n",
    "pars.NonLinear = model.NonLinear_none\n",
    "results = camb.get_results(pars)\n",
    "kh, z, pk = results.get_matter_power_spectrum(minkh=1e-4, maxkh=1, npoints = 200)\n",
    "s8 = np.array(results.get_sigma8())\n",
    "\n",
    "#Non-Linear spectra (Halofit)\n",
    "pars.NonLinear = model.NonLinear_both\n",
    "results.calc_power_spectra(pars)\n",
    "kh_nonlin, z_nonlin, pk_nonlin = results.get_matter_power_spectrum(minkh=1e-4, maxkh=1, npoints = 200)\n",
    "\n",
    "PK = camb.get_matter_power_interpolator(pars, zmin=0, zmax=5, nz_step=100, zs=None, kmax=10, nonlinear=True, var1='delta_tot',var2='delta_tot')"
   ]
  },
  {
   "cell_type": "code",
   "execution_count": 19,
   "metadata": {},
   "outputs": [],
   "source": [
    "def get_pk_list(z, k_list = kh):\n",
    "    \"\"\"\n",
    "    representation of the matter power spectrum as a list of tuples of the form (k, pk) \n",
    "    input param: \n",
    "        z(flt): redshift\n",
    "        k_list(lst): a list of values for k: k_list \n",
    "    output: \n",
    "        list of tuples of the form (k, pk) \n",
    "    \"\"\"\n",
    "    return [(k, PK.P(z, k)) for k in k_list]\n",
    "\n",
    "def calc_delta_Phi(z, k_list = kh):\n",
    "    \"\"\"\n",
    "    calculates delta_Phi (Fourier-space perturbation in the gravita- tional potential) as a function of k\n",
    "    input param: \n",
    "        z(flt): redshift\n",
    "        k_list(lst): a list of values for k: k_list \n",
    "    output: \n",
    "        list of tuples of the form (k, delta_Phi)\n",
    "    \"\"\"\n",
    "    return [(item[0], numpy.random.normal(loc=0.0, scale=np.sqrt(item[1]), size=None)) for item in get_pk_list(z, k_list)]"
   ]
  },
  {
   "cell_type": "code",
   "execution_count": null,
   "metadata": {},
   "outputs": [],
   "source": [
    "def calc_a2m(z, m):\n",
    "    \"\"\"\n",
    "    calculates a2m coefficients at any redshift\n",
    "    input param: \n",
    "        z(flt): redshift\n",
    "        m(int): index m\n",
    "    output:\n",
    "        a complex number\n",
    "    \"\"\"\n",
    "    res = -16 * pow(np.pi, 2) / 5\n",
    "    res *= Y2m_conj\n",
    "    integral = \n",
    "    res *= integral\n",
    "    return res\n",
    "    "
   ]
  },
  {
   "cell_type": "code",
   "execution_count": null,
   "metadata": {},
   "outputs": [],
   "source": []
  }
 ],
 "metadata": {
  "kernelspec": {
   "display_name": "Python 3",
   "language": "python",
   "name": "python3"
  },
  "language_info": {
   "codemirror_mode": {
    "name": "ipython",
    "version": 3
   },
   "file_extension": ".py",
   "mimetype": "text/x-python",
   "name": "python",
   "nbconvert_exporter": "python",
   "pygments_lexer": "ipython3",
   "version": "3.7.3"
  }
 },
 "nbformat": 4,
 "nbformat_minor": 2
}
